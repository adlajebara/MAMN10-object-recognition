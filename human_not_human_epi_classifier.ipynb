{
 "cells": [
  {
   "cell_type": "markdown",
   "id": "a46948e3",
   "metadata": {},
   "source": [
    "# Import Libraries"
   ]
  },
  {
   "cell_type": "code",
   "execution_count": null,
   "id": "935edfe0",
   "metadata": {},
   "outputs": [],
   "source": [
    "# Common imports\n",
    "import os\n",
    "import numpy as np\n",
    "\n",
    "# Visualization\n",
    "import matplotlib as mpl\n",
    "import matplotlib.pyplot as plt\n",
    "import seaborn as sns\n",
    "%matplotlib inline"
   ]
  },
  {
   "cell_type": "code",
   "execution_count": null,
   "id": "2e4e5459",
   "metadata": {},
   "outputs": [],
   "source": [
    "# TensorFlow imports\n",
    "# may differs from version to versions\n",
    "\n",
    "import tensorflow as tf\n",
    "from tensorflow import keras\n",
    "\n",
    "from tensorflow.keras.callbacks import ModelCheckpoint\n",
    "from tensorflow.keras.callbacks import EarlyStopping\n",
    "\n",
    "from tensorflow.keras.preprocessing import image"
   ]
  },
  {
   "cell_type": "markdown",
   "id": "08a6c42d",
   "metadata": {},
   "source": [
    "## Set Some Parameters"
   ]
  },
  {
   "cell_type": "code",
   "execution_count": null,
   "id": "54f612a8",
   "metadata": {},
   "outputs": [],
   "source": [
    "# Dataset information\n",
    "\n",
    "# Test dataset is set explicitly, because the amount of data is very small\n",
    "train_image_folder = os.path.join('datasets', 'face_dataset_train_images')\n",
    "test_image_folder = os.path.join('datasets', 'face_dataset_test_images')\n",
    "img_height, img_width = 250, 250  # size of images\n",
    "num_classes = 3  # human - not human - epi\n",
    "\n",
    "# Training settings\n",
    "validation_ratio = 0.15  # 15% for the validation\n",
    "batch_size = 16\n",
    "\n",
    "AUTOTUNE = tf.data.AUTOTUNE"
   ]
  },
  {
   "cell_type": "markdown",
   "id": "af5c03c0",
   "metadata": {},
   "source": [
    "## Create Dataset"
   ]
  },
  {
   "cell_type": "markdown",
   "id": "833c39b5",
   "metadata": {},
   "source": [
    "### Read datasets from folders"
   ]
  },
  {
   "cell_type": "code",
   "execution_count": null,
   "id": "384a378b",
   "metadata": {},
   "outputs": [],
   "source": [
    "# Train and validation sets\n",
    "train_ds = keras.preprocessing.image_dataset_from_directory(\n",
    "    train_image_folder,\n",
    "    validation_split=validation_ratio,\n",
    "    subset=\"training\",\n",
    "    seed=42,\n",
    "    image_size=(img_height, img_width),\n",
    "    label_mode='categorical',\n",
    "    batch_size=batch_size,\n",
    "    shuffle=True)\n",
    "\n",
    "val_ds = keras.preprocessing.image_dataset_from_directory(\n",
    "    train_image_folder,\n",
    "    validation_split=validation_ratio,\n",
    "    subset=\"validation\",\n",
    "    seed=42,\n",
    "    image_size=(img_height, img_width),\n",
    "    batch_size=batch_size,\n",
    "    label_mode='categorical',\n",
    "    shuffle=True)"
   ]
  },
  {
   "cell_type": "code",
   "execution_count": null,
   "id": "f0d22a12",
   "metadata": {},
   "outputs": [],
   "source": [
    "# Test set\n",
    "test_ds = keras.preprocessing.image_dataset_from_directory(\n",
    "    test_image_folder,\n",
    "    image_size=(img_height, img_width),\n",
    "    label_mode='categorical',\n",
    "    shuffle=False)"
   ]
  },
  {
   "cell_type": "code",
   "execution_count": null,
   "id": "d68ef76d",
   "metadata": {},
   "outputs": [],
   "source": [
    "class_names = test_ds.class_names\n",
    "class_names"
   ]
  },
  {
   "cell_type": "markdown",
   "id": "a09c93da",
   "metadata": {},
   "source": [
    "# Build The Model (ResNet50)"
   ]
  },
  {
   "cell_type": "code",
   "execution_count": null,
   "id": "c7bbd3f9",
   "metadata": {},
   "outputs": [],
   "source": [
    "base_model = keras.applications.ResNet50(weights='imagenet',\n",
    "                                         include_top=False,  # without dense part of the network\n",
    "                                         input_shape=(img_height, img_width, 3))"
   ]
  },
  {
   "cell_type": "code",
   "execution_count": null,
   "id": "b2548f14",
   "metadata": {},
   "outputs": [],
   "source": [
    "# Set layers to non-trainable\n",
    "for layer in base_model.layers:\n",
    "    layer.trainable = False"
   ]
  },
  {
   "cell_type": "code",
   "execution_count": null,
   "id": "90a9dd4e",
   "metadata": {},
   "outputs": [],
   "source": [
    "# Add custom layers on top of ResNet\n",
    "global_avg_pooling = keras.layers.GlobalAveragePooling2D()(base_model.output)\n",
    "output = keras.layers.Dense(num_classes, activation='sigmoid')(global_avg_pooling)\n",
    "\n",
    "face_classifier = keras.models.Model(inputs=base_model.input,\n",
    "                                     outputs=output,\n",
    "                                     name='ResNet50')\n",
    "face_classifier.summary()"
   ]
  },
  {
   "cell_type": "code",
   "execution_count": null,
   "id": "dfaad95b",
   "metadata": {},
   "outputs": [],
   "source": [
    "# ModelCheckpoint to save model in case of interrupting the learning process\n",
    "checkpoint = ModelCheckpoint(\"models/face_classifier.h5\",\n",
    "                             monitor=\"val_loss\",\n",
    "                             mode=\"min\",\n",
    "                             save_best_only=True,\n",
    "                             verbose=1)\n",
    "\n",
    "# EarlyStopping to find best model with a large number of epochs\n",
    "earlystop = EarlyStopping(monitor='val_loss',\n",
    "                          restore_best_weights=True,\n",
    "                          patience=3,  # number of epochs with no improvement after which training will be stopped\n",
    "                          verbose=1)\n",
    "\n",
    "callbacks = [earlystop, checkpoint]"
   ]
  },
  {
   "cell_type": "code",
   "execution_count": null,
   "id": "36883398",
   "metadata": {},
   "outputs": [],
   "source": [
    "face_classifier.compile(loss='categorical_crossentropy',\n",
    "                        optimizer=keras.optimizers.Adam(learning_rate=0.01),\n",
    "                        metrics=['accuracy'])"
   ]
  },
  {
   "cell_type": "markdown",
   "id": "5ff8db28",
   "metadata": {},
   "source": [
    "# Training"
   ]
  },
  {
   "cell_type": "code",
   "execution_count": null,
   "id": "7c1a3764",
   "metadata": {},
   "outputs": [],
   "source": [
    "epochs = 50"
   ]
  },
  {
   "cell_type": "code",
   "execution_count": null,
   "id": "8ad18bcb",
   "metadata": {},
   "outputs": [],
   "source": [
    "history = face_classifier.fit(\n",
    "    train_ds,\n",
    "    epochs=epochs,\n",
    "    callbacks=callbacks,\n",
    "    validation_data=val_ds)\n",
    "\n",
    "face_classifier.save(\"models/face_classifier.h5\")"
   ]
  },
  {
   "cell_type": "markdown",
   "id": "17b760ee",
   "metadata": {},
   "source": [
    "# Testing"
   ]
  },
  {
   "cell_type": "code",
   "execution_count": null,
   "id": "0dd2a809",
   "metadata": {},
   "outputs": [],
   "source": [
    "def test_image_classifier_with_folder(model, path, y_true, img_height=250, img_width=250, class_names=['epi', 'human', 'not_human']):\n",
    "    '''\n",
    "    Read all images from 'path' using tensorflow.keras.preprocessing.image module, \n",
    "    than classifies them using 'model' and compare result with 'y_true'.\n",
    "    Calculate total accuracy based on 'path' test set.\n",
    "\n",
    "    Parameters:\n",
    "        model : Image classifier\n",
    "        path (str): Path to the folder with images you want to test classifier on \n",
    "        y_true : True label of the images in the folder. Must be in 'class_names' list\n",
    "        img_height (int): The height of the image that the classifier can process \n",
    "        img_width (int): The width of the image that the classifier can process\n",
    "        class_names (array-like): List of class names \n",
    "\n",
    "    Returns:\n",
    "        None\n",
    "    '''\n",
    "    num_classes = len(class_names)  # Number of classes\n",
    "    total = 0  # number of images total\n",
    "    correct = 0  # number of images classified correctly\n",
    "\n",
    "    for filename in os.listdir(path):\n",
    "        # read each image in the folder and classifies it\n",
    "        test_path = os.path.join(path, filename)\n",
    "        test_image = image.load_img(\n",
    "            test_path, target_size=(img_height, img_width, 3))\n",
    "        # from image to array, can try type(test_image)\n",
    "        test_image = image.img_to_array(test_image)\n",
    "        # shape from (250, 250, 3) to (1, 250, 250, 3)\n",
    "        test_image = np.expand_dims(test_image, axis=0)\n",
    "        result = model.predict(test_image)\n",
    "\n",
    "        y_pred = class_names[np.array(result[0]).argmax(\n",
    "            axis=0)]  # predicted class\n",
    "        iscorrect = 'correct' if y_pred == y_true else 'incorrect'\n",
    "        print('{} - {}'.format(iscorrect, filename))\n",
    "        for index in range(num_classes):\n",
    "            print(\"\\t{:6} with probabily of {:.2f}%\".format(\n",
    "                class_names[index], result[0][index] * 100))\n",
    "\n",
    "        total += 1\n",
    "        if y_pred == y_true:\n",
    "            correct += 1\n",
    "\n",
    "    print(\"\\nTotal accuracy is {:.2f}% = {}/{} samples classified correctly\".format(\n",
    "        correct/total*100, correct, total))"
   ]
  },
  {
   "cell_type": "code",
   "execution_count": null,
   "id": "786c6bc1",
   "metadata": {},
   "outputs": [],
   "source": [
    "model_name = 'face_classifier.h5'\n",
    "face_classifier = keras.models.load_model(f'models/{model_name}')"
   ]
  },
  {
   "cell_type": "code",
   "execution_count": null,
   "id": "1514c868",
   "metadata": {},
   "outputs": [],
   "source": [
    "test_image_classifier_with_folder(face_classifier,\n",
    "                                  'datasets/face_dataset_test_images/human',\n",
    "                                  y_true='human')"
   ]
  },
  {
   "cell_type": "code",
   "execution_count": null,
   "metadata": {},
   "outputs": [],
   "source": [
    "test_image_classifier_with_folder(face_classifier,\n",
    "                                  'datasets/face_dataset_test_images/epi',\n",
    "                                  y_true='epi')"
   ]
  },
  {
   "cell_type": "code",
   "execution_count": null,
   "id": "f473d5a2",
   "metadata": {
    "scrolled": false
   },
   "outputs": [],
   "source": [
    "test_image_classifier_with_folder(face_classifier,\n",
    "                                  'datasets/face_dataset_test_images/not_human',\n",
    "                                  y_true='not_human')"
   ]
  },
  {
   "cell_type": "markdown",
   "id": "5f5d1f5e",
   "metadata": {},
   "source": [
    "## Test of particular image"
   ]
  },
  {
   "cell_type": "code",
   "execution_count": null,
   "id": "8422cead",
   "metadata": {},
   "outputs": [],
   "source": [
    "test_path = 'datasets/face_dataset_test_images/epi/epi5.jpg'\n",
    "test_image = image.load_img(test_path, target_size=(img_height, img_width, 3))\n",
    "test_image"
   ]
  },
  {
   "cell_type": "code",
   "execution_count": null,
   "id": "abc77320",
   "metadata": {},
   "outputs": [],
   "source": [
    "test_image = image.img_to_array(test_image)  # from image to array\n",
    "# shape from (250, 250, 3) to (1, 250, 250, 3)\n",
    "test_image = np.expand_dims(test_image, axis=0)\n",
    "result = face_classifier.predict(test_image)\n",
    "\n",
    "for index in range(num_classes):\n",
    "    print(\"{:6} with probabily of {:.2f}%\".format(\n",
    "        class_names[index], result[0][index] * 100))"
   ]
  },
  {
   "cell_type": "code",
   "execution_count": null,
   "id": "ff8f64ae",
   "metadata": {},
   "outputs": [],
   "source": []
  }
 ],
 "metadata": {
  "interpreter": {
   "hash": "064b18af5d9d34f9d3726e2403c5118346c6eab14a59a5b3f0e0a0d981759afb"
  },
  "kernelspec": {
   "display_name": "Python 3.9.13 64-bit ('mlp': conda)",
   "name": "python3"
  },
  "language_info": {
   "codemirror_mode": {
    "name": "ipython",
    "version": 3
   },
   "file_extension": ".py",
   "mimetype": "text/x-python",
   "name": "python",
   "nbconvert_exporter": "python",
   "pygments_lexer": "ipython3",
   "version": "3.9.13"
  }
 },
 "nbformat": 4,
 "nbformat_minor": 5
}
